{
  "nbformat": 4,
  "nbformat_minor": 0,
  "metadata": {
    "colab": {
      "provenance": [],
      "gpuType": "T4"
    },
    "kernelspec": {
      "name": "python3",
      "display_name": "Python 3"
    },
    "language_info": {
      "name": "python"
    },
    "accelerator": "GPU"
  },
  "cells": [
    {
      "cell_type": "markdown",
      "source": [
        "## `ابتدا این دو مجوز را تایید کنید`\n",
        "###این مجوزها فقط یکبار تایید شوند دفعه بعد نیازی به تایید ندارند\n",
        "###مجوز اول : https://huggingface.co/pyannote/speaker-diarization\n",
        "###مجوز دوم : https://huggingface.co/pyannote/segmentation"
      ],
      "metadata": {
        "id": "rsdb8oGhGa0o"
      }
    },
    {
      "cell_type": "code",
      "execution_count": null,
      "metadata": {
        "cellView": "form",
        "id": "LUgwm0rfx0_J"
      },
      "outputs": [],
      "source": [
        "# @title Install requirements for SoniTranslate\n",
        "#@markdown ## `نصب در فضای کولب`\n",
        "from IPython.display import display, HTML\n",
        "\n",
        "message = \"\"\"\n",
        "<div style=\"text-align: center;\">\n",
        "    <p>⚠️ در صورتی که با تایید مجوزها آشنایی ندارید این ویدیو را تا دقیقه 4:44 تماشا کنید.</p>\n",
        "    <div style=\"transform: scale(0.5); transform-origin: top left;\">\n",
        "        <iframe width=\"560\" height=\"315\" src=\"https://www.youtube.com/embed/UgF-ejzCEN4\" frameborder=\"0\" allow=\"accelerometer; autoplay; encrypted-media; gyroscope; picture-in-picture\" allowfullscreen></iframe>\n",
        "    </div>\n",
        "</div>\n",
        "\"\"\"\n",
        "display(HTML(message))\n",
        "# First install compatible versions of NumPy and JAX to prevent errors\n",
        "!pip install numpy==1.24.3 -q\n",
        "!pip install jax==0.4.20 jaxlib==0.4.20 -q\n",
        "\n",
        "# Now continue with the original installation\n",
        "!git clone https://github.com/yaranbarzi/SoniTranslate.git\n",
        "%cd SoniTranslate\n",
        "\n",
        "!pip uninstall chex pandas-stubs ibis-framework albumentations albucore -y -q\n",
        "!python -m pip install -q pip==23.1.2\n",
        "!apt install git-lfs\n",
        "!git lfs install\n",
        "\n",
        "!sed -i 's|git+https://github.com/yaranbarzi/whisperX.git@cuda_11_8|git+https://github.com/yaranbarzi/whisperX.git@cuda_12_x|' requirements_base.txt\n",
        "!sed -i 's|fairseq==0.12.2 |https://github.com/liyaodev/fairseq/releases/download/v0.12.3.1/fairseq-0.12.3.1-cp311-cp311-linux_x86_64.whl|' requirements_extra.txt\n",
        "!pip install -q -r requirements_base.txt\n",
        "!pip install -q -r requirements_extra.txt\n",
        "!pip install -q ort-nightly-gpu --index-url=https://aiinfra.pkgs.visualstudio.com/PublicPackages/_packaging/ort-cuda-12-nightly/pypi/simple/\n",
        "\n",
        "Install_PIPER_TTS = True # @param {type:\"boolean\"}\n",
        "\n",
        "if Install_PIPER_TTS:\n",
        "    !pip install -q piper-tts==1.2.0\n",
        "\n",
        "Install_Coqui_XTTS = True # @param {type:\"boolean\"}\n",
        "\n",
        "if Install_Coqui_XTTS:\n",
        "    !pip install -q -r requirements_xtts.txt\n",
        "    !pip install -q TTS==0.21.1  --no-deps\n",
        "\n",
        "!sudo apt install -y libcudnn8"
      ]
    },
    {
      "cell_type": "code",
      "execution_count": null,
      "metadata": {
        "cellView": "form",
        "id": "XkhXfaFw4R4J"
      },
      "outputs": [],
      "source": [
        "#@title Run\n",
        "#@markdown ### `توکن هاگین فیس را وارد کنید`\n",
        "YOUR_HF_TOKEN = \"\" #@param {type:'string'}\n",
        "%env YOUR_HF_TOKEN={YOUR_HF_TOKEN}\n",
        "theme = \"Taithrah/Minimal\" # @param [\"Taithrah/Minimal\", \"aliabid94/new-theme\", \"gstaff/xkcd\", \"ParityError/LimeFace\", \"abidlabs/pakistan\", \"rottenlittlecreature/Moon_Goblin\", \"ysharma/llamas\", \"gradio/dracula_revamped\"]\n",
        "interface_language = \"english\" # @param ['arabic', 'azerbaijani', 'chinese_zh_cn', 'english', 'french', 'german', 'hindi', 'indonesian', 'italian', 'japanese', 'korean', 'marathi', 'persian', 'portuguese', 'russian', 'spanish', 'swedish', 'turkish', 'ukrainian', 'vietnamese']\n",
        "verbosity_level = \"info\" # @param [\"debug\", \"info\", \"warning\", \"error\", \"critical\"]\n",
        "\n",
        "\n",
        "%cd /content/SoniTranslate\n",
        "!python app_rvc.py --theme {theme} --verbosity_level {verbosity_level} --language {interface_language} --public_url"
      ]
    },
    {
      "cell_type": "code",
      "source": [
        "#@title ذخیره در گوگل درایو\n",
        "#@markdown ### `در صورت دانلود ناموفق ویدیوی دوبله شده ، ابتدا سلول قبل را متوقف کنید و این سلول را اجرا کنید`\n",
        "from google.colab import drive\n",
        "\n",
        "# اتصال به حساب گوگل درایو\n",
        "drive.mount('/content/drive')\n",
        "\n",
        "# مسیر مورد نظر برای کپی کردن پوشه و محتویات آن\n",
        "source_path_1 = '/content/SoniTranslate/outputs'\n",
        "source_path_2 = '/content/SoniTranslate/sub_tra.srt'\n",
        "\n",
        "# مسیر درایوی که می‌خواهید فایل‌ها را در آن ذخیره کنید\n",
        "destination_path = '/content/drive/My Drive/Sonitranslate/'\n",
        "\n",
        "# ایجاد پوشه Sonitranslate در صورت عدم وجود\n",
        "!mkdir -p \"$destination_path\"\n",
        "\n",
        "# کپی کردن پوشه و محتویات آن به درایو گوگل\n",
        "!cp -r \"$source_path_1\" \"$destination_path\"\n",
        "!cp \"$source_path_2\" \"$destination_path\"\n",
        "\n",
        "# نمایش پیام موفقیت‌آمیز\n",
        "print(\"فایل‌ها با موفقیت به پوشه Sonitranslate در درایو گوگل شما ذخیره شدند.\")\n"
      ],
      "metadata": {
        "cellView": "form",
        "id": "mt-AYCDwFBRp"
      },
      "execution_count": null,
      "outputs": []
    }
  ]
}