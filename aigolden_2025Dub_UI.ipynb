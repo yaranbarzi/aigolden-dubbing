{
  "nbformat": 4,
  "nbformat_minor": 0,
  "metadata": {
    "colab": {
      "provenance": [],
      "gpuType": "T4"
    },
    "kernelspec": {
      "name": "python3",
      "display_name": "Python 3"
    },
    "language_info": {
      "name": "python"
    },
    "accelerator": "GPU"
  },
  "cells": [
    {
      "cell_type": "code",
      "execution_count": null,
      "metadata": {
        "id": "LH_V4rBvYZgX",
        "cellView": "form"
      },
      "outputs": [],
      "source": [
        "#@title نصب کتابخانه ها\n",
        "import base64\n",
        "\n",
        "encoded_url = \"aHR0cHM6Ly9naXRodWIuY29tL3lhcmFuYmFyemkvYWlnb2xkZW4tYXVkaW8tdG8tdGV4dC5naXQ=\"\n",
        "decoded_url = base64.b64decode(encoded_url.encode()).decode()\n",
        "!pip install git+$decoded_url\n",
        "! pip install edge_tts\n",
        "!pip install yt-dlp\n",
        "!pip install pysrt\n",
        "!pip install rubberband-cli\n",
        "!pip install pydub\n",
        "!pip install gradio\n",
        "!sudo apt update && sudo apt install ffmpeg"
      ]
    },
    {
      "cell_type": "code",
      "source": [
        "#@title Run\n",
        "!git clone https://github.com/yaranbarzi/aigolden-dubbing\n",
        "!cd aigolden-dubbing && python app.py"
      ],
      "metadata": {
        "id": "vT4VJCNbMAnF",
        "cellView": "form"
      },
      "execution_count": null,
      "outputs": []
    }
  ]
}