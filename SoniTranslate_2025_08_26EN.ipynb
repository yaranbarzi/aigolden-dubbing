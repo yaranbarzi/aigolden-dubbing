{
  "cells": [
    {
      "cell_type": "markdown",
      "metadata": {
        "id": "8lw0EgLex-YZ"
      },
      "source": [
        "# ✅ مجوزهای مورد نیاز  \n",
        "\n",
        "## 🔑 ابتدا این دو مجوز را **یکبار** تأیید کنید  \n",
        "> ⚠️ توجه: فقط بار اول نیاز به تأیید دارند، دفعات بعدی دیگر نیازی نیست.  \n",
        "\n",
        "---\n",
        "\n",
        "### 📝 مجوز اول  \n",
        "👉 [pyannote/speaker-diarization](https://huggingface.co/pyannote/speaker-diarization)  \n",
        "\n",
        "### 📝 مجوز دوم  \n",
        "👉 [pyannote/segmentation](https://huggingface.co/pyannote/segmentation)  \n",
        "\n",
        "---\n",
        "\n",
        "✅ بعد از تأیید این دو مورد، می‌توانید اجرای پروژه را شروع کنید.  \n"
      ]
    },
    {
      "cell_type": "code",
      "execution_count": null,
      "metadata": {
        "cellView": "form",
        "id": "LUgwm0rfx0_J"
      },
      "outputs": [],
      "source": [
        "# @title `نصب در فضای کولب`\n",
        "from IPython.display import display, HTML\n",
        "\n",
        "message = \"\"\"\n",
        "<div style=\"text-align: center;\">\n",
        "    <p>⚠️ در صورتی که با تایید مجوزها آشنایی ندارید این ویدیو را تا دقیقه 4:44 تماشا کنید.</p>\n",
        "    <div style=\"transform: scale(0.5); transform-origin: top left;\">\n",
        "        <iframe width=\"560\" height=\"315\" src=\"https://www.youtube.com/embed/UgF-ejzCEN4\" frameborder=\"0\" allow=\"accelerometer; autoplay; encrypted-media; gyroscope; picture-in-picture\" allowfullscreen></iframe>\n",
        "    </div>\n",
        "</div>\n",
        "\"\"\"\n",
        "display(HTML(message))\n",
        "%cd /content\n",
        "!git clone https://github.com/r3gm/SoniTranslate.git\n",
        "%cd SoniTranslate\n",
        "\n",
        "!pip uninstall chex pandas-stubs ibis-framework albumentations albucore jax -y -q\n",
        "!pip install uv==0.8.13 -q\n",
        "!uv venv --python 3.10 --clear -q\n",
        "!curl -sS https://bootstrap.pypa.io/get-pip.py -o get-pip.py\n",
        "!uv run python get-pip.py pip==23.1.2 -q\n",
        "# In Colab, this is how you use uv, got it?\n",
        "!uv run python -m pip install -q pip==23.1.2 Setuptools==80.6.0\n",
        "!apt install git-lfs -q\n",
        "!git lfs install\n",
        "\n",
        "!uv run python -m pip install -q torch==2.5.1 torchvision==0.20.1 torchaudio==2.5.1 --index-url https://download.pytorch.org/whl/cu124\n",
        "!sed -i 's|git+https://github.com/R3gm/whisperX.git@cuda_11_8|git+https://github.com/R3gm/whisperX.git@cuda_12_x|' requirements_base.txt\n",
        "!uv run python -m pip install -q -r requirements_base.txt\n",
        "!uv run python -m pip install -q -r requirements_extra.txt\n",
        "!uv run python -m pip install -q onnxruntime-gpu==1.22.0\n",
        "\n",
        "Install_PIPER_TTS = True # @param {type:\"boolean\"}\n",
        "\n",
        "if Install_PIPER_TTS:\n",
        "    !uv run python -m pip install -q piper-tts==1.2.0\n",
        "\n",
        "Install_Coqui_XTTS = True # @param {type:\"boolean\"}\n",
        "\n",
        "if Install_Coqui_XTTS:\n",
        "    !uv run python -m pip install -q -r requirements_xtts.txt\n",
        "    !uv run python -m pip install -q TTS==0.21.1  --no-deps\n",
        "\n",
        "!sudo apt install -y libcudnn8 -q"
      ]
    },
    {
      "cell_type": "markdown",
      "source": [
        "<font color=\"#00FF00\">─</font><font color=\"#0066cc\">─</font><font color=\"#FF0000\">─</font><font color=\"#00FF00\">─</font><font color=\"#0066cc\">─</font><font color=\"#FF0000\">─</font><font color=\"#00FF00\">─</font><font color=\"#0066cc\">─</font><font color=\"#FF0000\">─</font><font color=\"#00FF00\">─</font><font color=\"#0066cc\">─</font><font color=\"#FF0000\">─</font><font color=\"#00FF00\">─</font><font color=\"#0066cc\">─</font><font color=\"#FF0000\">─</font><font color=\"#00FF00\">─</font><font color=\"#0066cc\">─</font><font color=\"#FF0000\">─</font><font color=\"#00FF00\">─</font><font color=\"#0066cc\">─</font><font color=\"#FF0000\">─</font><font color=\"#00FF00\">─</font><font color=\"#0066cc\">─</font><font color=\"#FF0000\">─</font><font color=\"#00FF00\">─</font><font color=\"#0066cc\">─</font><font color=\"#FF0000\">─</font>"
      ],
      "metadata": {
        "id": "Q2CL3b9cHC0C"
      }
    },
    {
      "cell_type": "code",
      "execution_count": null,
      "metadata": {
        "cellView": "form",
        "id": "XkhXfaFw4R4J"
      },
      "outputs": [],
      "source": [
        "#@title # `RUN THE WEB APP`\n",
        "#@markdown ### `توکن هاگین فیس را وارد کنید`\n",
        "YOUR_HF_TOKEN = \"\" #@param {type:'string'}\n",
        "%env YOUR_HF_TOKEN={YOUR_HF_TOKEN}\n",
        "theme = \"Taithrah/Minimal\" # @param [\"Taithrah/Minimal\", \"aliabid94/new-theme\", \"gstaff/xkcd\", \"ParityError/LimeFace\", \"abidlabs/pakistan\", \"rottenlittlecreature/Moon_Goblin\", \"ysharma/llamas\", \"gradio/dracula_revamped\"]\n",
        "interface_language = \"english\" # @param ['arabic', 'azerbaijani', 'chinese_zh_cn', 'english', 'french', 'german', 'hindi', 'indonesian', 'italian', 'japanese', 'korean', 'marathi', 'persian', 'portuguese', 'russian', 'spanish', 'swedish', 'turkish', 'ukrainian', 'vietnamese']\n",
        "verbosity_level = \"info\" # @param [\"debug\", \"info\", \"warning\", \"error\", \"critical\"]\n",
        "\n",
        "\n",
        "%cd /content/SoniTranslate\n",
        "!uv run python app_rvc.py --theme {theme} --verbosity_level {verbosity_level} --language {interface_language} --public_url"
      ]
    },
    {
      "cell_type": "markdown",
      "metadata": {
        "id": "KJW3KrhZJh0u"
      },
      "source": [
        "`بعد از اجرای سلول بالا ☝ ، لینک رابط گریدیو نمایش داده میشود که باید آن را باز کنید`"
      ]
    },
    {
      "cell_type": "markdown",
      "source": [
        "<font color=\"#00FF00\">─</font><font color=\"#0066cc\">─</font><font color=\"#FF0000\">─</font><font color=\"#00FF00\">─</font><font color=\"#0066cc\">─</font><font color=\"#FF0000\">─</font><font color=\"#00FF00\">─</font><font color=\"#0066cc\">─</font><font color=\"#FF0000\">─</font><font color=\"#00FF00\">─</font><font color=\"#0066cc\">─</font><font color=\"#FF0000\">─</font><font color=\"#00FF00\">─</font><font color=\"#0066cc\">─</font><font color=\"#FF0000\">─</font><font color=\"#00FF00\">─</font><font color=\"#0066cc\">─</font><font color=\"#FF0000\">─</font><font color=\"#00FF00\">─</font><font color=\"#0066cc\">─</font><font color=\"#FF0000\">─</font><font color=\"#00FF00\">─</font><font color=\"#0066cc\">─</font><font color=\"#FF0000\">─</font><font color=\"#00FF00\">─</font><font color=\"#0066cc\">─</font><font color=\"#FF0000\">─</font>"
      ],
      "metadata": {
        "id": "ev5-C7e_tYOj"
      }
    },
    {
      "cell_type": "code",
      "source": [
        "#@title ####📥 دانلود اضطراری ویدیوی دوبله شده و زیرنویس ها یکجا بصورت زیپ\n",
        "#@markdown ##### `بعد از دوبله ، ابتدا سلول قبل را متوقف کنید و این سلول  را اجرا کنید`\n",
        "folder_path = '/content/SoniTranslate/outputs'\n",
        "zip_filename = '/content/outputs.zip'\n",
        "\n",
        "import shutil\n",
        "shutil.make_archive(zip_filename.replace('.zip', ''), 'zip', folder_path)\n",
        "\n",
        "from google.colab import files\n",
        "files.download(zip_filename)\n"
      ],
      "metadata": {
        "cellView": "form",
        "id": "4MrBz7etB78c"
      },
      "execution_count": null,
      "outputs": []
    }
  ],
  "metadata": {
    "accelerator": "GPU",
    "colab": {
      "gpuType": "T4",
      "provenance": []
    },
    "kernelspec": {
      "display_name": "Python 3",
      "name": "python3"
    },
    "language_info": {
      "name": "python"
    }
  },
  "nbformat": 4,
  "nbformat_minor": 0
}